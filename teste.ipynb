{
 "cells": [
  {
   "cell_type": "code",
   "execution_count": 16,
   "metadata": {},
   "outputs": [],
   "source": [
    "import pandas as pd\n",
    "import numpy as np\n"
   ]
  },
  {
   "cell_type": "code",
   "execution_count": 13,
   "metadata": {},
   "outputs": [
    {
     "name": "stderr",
     "output_type": "stream",
     "text": [
      "C:\\Users\\a899160\\AppData\\Local\\Temp\\ipykernel_5004\\476569628.py:1: DtypeWarning: Columns (60,63) have mixed types. Specify dtype option on import or set low_memory=False.\n",
      "  data = pd.read_csv('novo_arquivo.csv')\n"
     ]
    }
   ],
   "source": [
    "data = pd.read_csv('novo_arquivo.csv')"
   ]
  },
  {
   "cell_type": "code",
   "execution_count": 17,
   "metadata": {},
   "outputs": [
    {
     "name": "stdout",
     "output_type": "stream",
     "text": [
      "0               NaN\n",
      "1               NaN\n",
      "2               NaN\n",
      "3               NaN\n",
      "4               NaN\n",
      "            ...    \n",
      "49995    2022-01-18\n",
      "49996    2022-01-18\n",
      "49997    2022-01-18\n",
      "49998    2022-01-18\n",
      "49999    2022-01-18\n",
      "Name: dt_demissao, Length: 50000, dtype: object\n"
     ]
    },
    {
     "name": "stderr",
     "output_type": "stream",
     "text": [
      "C:\\Users\\a899160\\AppData\\Local\\Temp\\ipykernel_5004\\3655278129.py:3: FutureWarning: Downcasting behavior in `replace` is deprecated and will be removed in a future version. To retain the old behavior, explicitly call `result.infer_objects(copy=False)`. To opt-in to the future behavior, set `pd.set_option('future.no_silent_downcasting', True)`\n",
      "  data.replace(\"(null)\", np.nan, inplace=True)\n"
     ]
    }
   ],
   "source": []
  },
  {
   "cell_type": "code",
   "execution_count": 6,
   "metadata": {},
   "outputs": [
    {
     "data": {
      "text/html": [
       "<div>\n",
       "<style scoped>\n",
       "    .dataframe tbody tr th:only-of-type {\n",
       "        vertical-align: middle;\n",
       "    }\n",
       "\n",
       "    .dataframe tbody tr th {\n",
       "        vertical-align: top;\n",
       "    }\n",
       "\n",
       "    .dataframe thead th {\n",
       "        text-align: right;\n",
       "    }\n",
       "</style>\n",
       "<table border=\"1\" class=\"dataframe\">\n",
       "  <thead>\n",
       "    <tr style=\"text-align: right;\">\n",
       "      <th></th>\n",
       "      <th>cod_empresa</th>\n",
       "      <th>cdn_cliente</th>\n",
       "      <th>num_aval1</th>\n",
       "      <th>num_aval2</th>\n",
       "      <th>cod_estabel</th>\n",
       "      <th>dt_inscricao</th>\n",
       "      <th>descendencia</th>\n",
       "      <th>l_cpf</th>\n",
       "      <th>l_rg</th>\n",
       "      <th>l_foto</th>\n",
       "      <th>...</th>\n",
       "      <th>log_coop_imovel_proprio</th>\n",
       "      <th>apl_impr_assinada</th>\n",
       "      <th>dt_demissao</th>\n",
       "      <th>log_int_camposdealer</th>\n",
       "      <th>cod_transp</th>\n",
       "      <th>nome_transp</th>\n",
       "      <th>log_participante_bayer</th>\n",
       "      <th>log_produtor_dap</th>\n",
       "      <th>log_cooperativa</th>\n",
       "      <th>dt_validade_dap</th>\n",
       "    </tr>\n",
       "  </thead>\n",
       "  <tbody>\n",
       "  </tbody>\n",
       "</table>\n",
       "<p>0 rows × 80 columns</p>\n",
       "</div>"
      ],
      "text/plain": [
       "Empty DataFrame\n",
       "Columns: [cod_empresa, cdn_cliente, num_aval1, num_aval2, cod_estabel, dt_inscricao, descendencia, l_cpf, l_rg, l_foto, l_formulario, l_declaracao, l_procuracao, estrutura, sexo, Bloqueado, log_desc_contratos, log_ativo, mot_ativo, cdn_repres, ult_usuario, dat_usuario, usu-alteracao, hora-alteracao, log_emite_receita, ind-referencia, ind-cheque, ind-protesto, ind-forum, ind-safras-ant, ind-observacao, origem, empresa_fisco, pj-com-nf, log_envia_palm, vlr-vendor, dt-serasa, nome-emit, cpf, nome-abrev, cdn_grupo_cliente, tipo_produtor, tipo_retencao_inss, ativo_retencao_inss, cpf_rec_ret_inss, empregador_rural, sdo-fccia-imob, sdo-fccia-nimob, safra_crm, log_crm, dat_emis_id_estad, dt_implant_ini, cliente_novo, dt_ult_movto, safra_ult_movto, situacao, cliente_foco, log-utiliza-portal, data-ativacao, hora-ativacao, cod-novo-cli, data-inativacao, hora-inativacao, log_ativo_pa, log_cliente_pet, cod_rep_secundario, apl_classif_produtor, apl_optou_declaracao, apl_dt_valid_classif, dt_ult_acess_mobile, log_coop_imovel_proprio, apl_impr_assinada, dt_demissao, log_int_camposdealer, cod_transp, nome_transp, log_participante_bayer, log_produtor_dap, log_cooperativa, dt_validade_dap]\n",
       "Index: []\n",
       "\n",
       "[0 rows x 80 columns]"
      ]
     },
     "execution_count": 6,
     "metadata": {},
     "output_type": "execute_result"
    }
   ],
   "source": [
    "datadata\n",
    "\n"
   ]
  }
 ],
 "metadata": {
  "kernelspec": {
   "display_name": "env",
   "language": "python",
   "name": "python3"
  },
  "language_info": {
   "codemirror_mode": {
    "name": "ipython",
    "version": 3
   },
   "file_extension": ".py",
   "mimetype": "text/x-python",
   "name": "python",
   "nbconvert_exporter": "python",
   "pygments_lexer": "ipython3",
   "version": "3.10.11"
  }
 },
 "nbformat": 4,
 "nbformat_minor": 2
}
